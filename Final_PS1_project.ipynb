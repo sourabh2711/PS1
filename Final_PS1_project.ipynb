{
  "cells": [
    {
      "cell_type": "markdown",
      "metadata": {
        "id": "QwOrCGA23_KD"
      },
      "source": [
        "# Check the Tensorflow version"
      ]
    },
    {
      "cell_type": "code",
      "execution_count": null,
      "metadata": {
        "colab": {
          "base_uri": "https://localhost:8080/"
        },
        "id": "rQXAnLiTCLTK",
        "outputId": "9fbf58d3-dc7a-4fb5-c750-784a583b1446"
      },
      "outputs": [
        {
          "name": "stdout",
          "output_type": "stream",
          "text": [
            "2.8.2\n"
          ]
        }
      ],
      "source": [
        "import tensorflow as tf\n",
        "print(tf.__version__)"
      ]
    },
    {
      "cell_type": "markdown",
      "metadata": {
        "id": "zBtLkL5N3_KW"
      },
      "source": [
        "# Import required Libraries"
      ]
    },
    {
      "cell_type": "code",
      "execution_count": null,
      "metadata": {
        "id": "yujt9LOZCTPX"
      },
      "outputs": [],
      "source": [
        "import numpy as np\n",
        "import matplotlib.pyplot as plt\n",
        "from tensorflow.keras.layers import Input, Conv2D, Dense, Flatten, Dropout, GlobalMaxPooling2D, MaxPooling2D, BatchNormalization\n",
        "from tensorflow.keras.models import Model"
      ]
    },
    {
      "cell_type": "markdown",
      "metadata": {
        "id": "r2-YAiH43_Ka"
      },
      "source": [
        "# CIFAR-10 Dataset"
      ]
    },
    {
      "cell_type": "markdown",
      "metadata": {
        "id": "oWJldkvj3_Kc"
      },
      "source": [
        "![](https://raw.githubusercontent.com/dmlc/web-data/master/gluoncv/datasets/cifar10.png)"
      ]
    },
    {
      "cell_type": "markdown",
      "metadata": {
        "id": "ph17SDEc3_Kd"
      },
      "source": [
        "**The CIFAR-10 dataset consists of 60000 32x32 colour images in 10 classes, with 6000 images per class. There are 50000 training images and 10000 test images.**"
      ]
    },
    {
      "cell_type": "markdown",
      "metadata": {
        "id": "cKfE0JiZ3_Kg"
      },
      "source": [
        "# Load the CIFAR-10 Dataset from keras"
      ]
    },
    {
      "cell_type": "code",
      "execution_count": null,
      "metadata": {
        "colab": {
          "base_uri": "https://localhost:8080/"
        },
        "id": "s8sbUwB2CyvC",
        "outputId": "ef813b07-0d46-4a4a-8d12-2923fa4b1a8c"
      },
      "outputs": [
        {
          "name": "stdout",
          "output_type": "stream",
          "text": [
            "Downloading data from https://www.cs.toronto.edu/~kriz/cifar-10-python.tar.gz\n",
            "170500096/170498071 [==============================] - 13s 0us/step\n",
            "170508288/170498071 [==============================] - 13s 0us/step\n"
          ]
        }
      ],
      "source": [
        "cifar10 = tf.keras.datasets.cifar10\n",
        "(x_train, y_train), (x_test, y_test) = cifar10.load_data()\n",
        "\n",
        "#Split them into train & test\n",
        "x_train, x_test = x_train / 255.0, x_test / 255.0\n",
        "y_train, y_test = y_train.flatten(), y_test.flatten()"
      ]
    },
    {
      "cell_type": "markdown",
      "metadata": {
        "id": "ZX9Syicz3_Kl"
      },
      "source": [
        "# Check the shape"
      ]
    },
    {
      "cell_type": "code",
      "execution_count": null,
      "metadata": {
        "colab": {
          "base_uri": "https://localhost:8080/"
        },
        "id": "Qwb3HHZd3_Kn",
        "outputId": "4ca576b4-361d-48c7-975d-dbc5ef090231"
      },
      "outputs": [
        {
          "name": "stdout",
          "output_type": "stream",
          "text": [
            "x_train.shape: (50000, 32, 32, 3)\n",
            "y_train.shape (50000,)\n"
          ]
        }
      ],
      "source": [
        "print(\"x_train.shape:\", x_train.shape)\n",
        "print(\"y_train.shape\", y_train.shape)"
      ]
    },
    {
      "cell_type": "markdown",
      "metadata": {
        "id": "yHXAVOVj3_Kp"
      },
      "source": [
        "# Check the number of classes in dataset"
      ]
    },
    {
      "cell_type": "code",
      "execution_count": null,
      "metadata": {
        "colab": {
          "base_uri": "https://localhost:8080/"
        },
        "id": "k9_BjL5bDEck",
        "outputId": "ef713ead-8fa1-433a-cfab-8e6d8ffd8f1d"
      },
      "outputs": [
        {
          "name": "stdout",
          "output_type": "stream",
          "text": [
            "number of classes: 10\n"
          ]
        }
      ],
      "source": [
        "# number of classes\n",
        "K = len(set(y_train))\n",
        "print(\"number of classes:\", K)"
      ]
    },
    {
      "cell_type": "markdown",
      "metadata": {
        "id": "MnYGqn-l3_Kr"
      },
      "source": [
        "# Build the Model"
      ]
    },
    {
      "cell_type": "code",
      "execution_count": null,
      "metadata": {
        "id": "25yysuIvDNwM"
      },
      "outputs": [],
      "source": [
        "i = Input(shape=x_train[0].shape)\n",
        "\n",
        "x = Conv2D(32, (3, 3), activation='relu', padding='same')(i)\n",
        "x = BatchNormalization()(x)\n",
        "x = Conv2D(32, (3, 3), activation='relu', padding='same')(x)\n",
        "x = BatchNormalization()(x)\n",
        "x = MaxPooling2D((2, 2))(x)\n",
        "\n",
        "x = Conv2D(64, (3, 3), activation='relu', padding='same')(x)\n",
        "x = BatchNormalization()(x)\n",
        "x = Conv2D(64, (3, 3), activation='relu', padding='same')(x)\n",
        "x = BatchNormalization()(x)\n",
        "x = MaxPooling2D((2, 2))(x)\n",
        "\n",
        "x = Conv2D(128, (3, 3), activation='relu', padding='same')(x)\n",
        "x = BatchNormalization()(x)\n",
        "x = Conv2D(128, (3, 3), activation='relu', padding='same')(x)\n",
        "x = BatchNormalization()(x)\n",
        "x = MaxPooling2D((2, 2))(x)\n",
        "\n",
        "x = Flatten()(x)\n",
        "x = Dropout(0.2)(x)\n",
        "x = Dense(1024, activation='relu')(x)\n",
        "x = Dropout(0.2)(x)\n",
        "x = Dense(K, activation='softmax')(x)\n",
        "\n",
        "model = Model(i, x)"
      ]
    },
    {
      "cell_type": "markdown",
      "metadata": {
        "id": "rp0Y5ql-3_Ku"
      },
      "source": [
        "# We did Batch Normalization, See this to understand easily👇"
      ]
    },
    {
      "cell_type": "markdown",
      "metadata": {
        "id": "DOE_2-uL3_Kv"
      },
      "source": [
        "![](https://i1.wp.com/csmoon-ml.com/wp-content/uploads/2019/04/1WRio7MD4JDeLww-CyrxEbg.png?fit=709%2C412)"
      ]
    },
    {
      "cell_type": "markdown",
      "metadata": {
        "id": "mUr6ExJ13_Kx"
      },
      "source": [
        "![](https://pbs.twimg.com/media/DpN0VplXcAAoBjy.jpg)"
      ]
    },
    {
      "cell_type": "code",
      "execution_count": null,
      "metadata": {
        "id": "I6rlF7w7DyTL"
      },
      "outputs": [],
      "source": [
        "# Note: make sure you are using the GPU for this.\n",
        "model.compile(optimizer='adam',\n",
        "              loss='sparse_categorical_crossentropy',\n",
        "              metrics=['accuracy'])"
      ]
    },
    {
      "cell_type": "markdown",
      "metadata": {
        "id": "UAewuh1G3_Ky"
      },
      "source": [
        "# It's time to Training"
      ]
    },
    {
      "cell_type": "code",
      "execution_count": null,
      "metadata": {
        "colab": {
          "base_uri": "https://localhost:8080/"
        },
        "id": "XowUFc2FD0ef",
        "outputId": "22b17ff7-dece-4808-87b0-ebc78d9e4d66"
      },
      "outputs": [
        {
          "name": "stdout",
          "output_type": "stream",
          "text": [
            "Epoch 1/50\n",
            "1563/1563 [==============================] - 25s 7ms/step - loss: 1.2843 - accuracy: 0.5588 - val_loss: 0.9845 - val_accuracy: 0.6598\n",
            "Epoch 2/50\n",
            "1563/1563 [==============================] - 11s 7ms/step - loss: 0.8482 - accuracy: 0.7079 - val_loss: 0.8773 - val_accuracy: 0.7031\n",
            "Epoch 3/50\n",
            "1563/1563 [==============================] - 11s 7ms/step - loss: 0.6929 - accuracy: 0.7613 - val_loss: 0.7574 - val_accuracy: 0.7411\n",
            "Epoch 4/50\n",
            "1563/1563 [==============================] - 12s 7ms/step - loss: 0.5837 - accuracy: 0.7989 - val_loss: 0.6592 - val_accuracy: 0.7797\n",
            "Epoch 5/50\n",
            "1563/1563 [==============================] - 11s 7ms/step - loss: 0.4973 - accuracy: 0.8298 - val_loss: 0.7337 - val_accuracy: 0.7599\n",
            "Epoch 6/50\n",
            "1563/1563 [==============================] - 11s 7ms/step - loss: 0.4186 - accuracy: 0.8569 - val_loss: 0.6728 - val_accuracy: 0.7785\n",
            "Epoch 7/50\n",
            "1563/1563 [==============================] - 11s 7ms/step - loss: 0.3514 - accuracy: 0.8766 - val_loss: 0.6748 - val_accuracy: 0.8018\n",
            "Epoch 8/50\n",
            "1563/1563 [==============================] - 11s 7ms/step - loss: 0.3020 - accuracy: 0.8946 - val_loss: 0.6391 - val_accuracy: 0.8092\n",
            "Epoch 9/50\n",
            "1563/1563 [==============================] - 11s 7ms/step - loss: 0.2541 - accuracy: 0.9119 - val_loss: 0.6208 - val_accuracy: 0.8259\n",
            "Epoch 10/50\n",
            "1563/1563 [==============================] - 11s 7ms/step - loss: 0.2242 - accuracy: 0.9227 - val_loss: 0.6314 - val_accuracy: 0.8164\n",
            "Epoch 11/50\n",
            "1563/1563 [==============================] - 11s 7ms/step - loss: 0.1926 - accuracy: 0.9352 - val_loss: 0.7116 - val_accuracy: 0.8169\n",
            "Epoch 12/50\n",
            "1563/1563 [==============================] - 11s 7ms/step - loss: 0.1721 - accuracy: 0.9406 - val_loss: 0.6680 - val_accuracy: 0.8224\n",
            "Epoch 13/50\n",
            "1563/1563 [==============================] - 12s 8ms/step - loss: 0.1570 - accuracy: 0.9475 - val_loss: 0.7834 - val_accuracy: 0.7974\n",
            "Epoch 14/50\n",
            "1563/1563 [==============================] - 11s 7ms/step - loss: 0.1372 - accuracy: 0.9538 - val_loss: 0.7587 - val_accuracy: 0.8218\n",
            "Epoch 15/50\n",
            "1563/1563 [==============================] - 11s 7ms/step - loss: 0.1332 - accuracy: 0.9551 - val_loss: 0.6898 - val_accuracy: 0.8358\n",
            "Epoch 16/50\n",
            "1563/1563 [==============================] - 11s 7ms/step - loss: 0.1249 - accuracy: 0.9575 - val_loss: 0.7529 - val_accuracy: 0.8176\n",
            "Epoch 17/50\n",
            "1563/1563 [==============================] - 11s 7ms/step - loss: 0.1110 - accuracy: 0.9626 - val_loss: 0.7460 - val_accuracy: 0.8216\n",
            "Epoch 18/50\n",
            "1563/1563 [==============================] - 11s 7ms/step - loss: 0.1096 - accuracy: 0.9629 - val_loss: 0.7976 - val_accuracy: 0.8314\n",
            "Epoch 19/50\n",
            "1563/1563 [==============================] - 11s 7ms/step - loss: 0.1001 - accuracy: 0.9670 - val_loss: 0.7482 - val_accuracy: 0.8231\n",
            "Epoch 20/50\n",
            "1563/1563 [==============================] - 11s 7ms/step - loss: 0.0963 - accuracy: 0.9673 - val_loss: 0.8695 - val_accuracy: 0.8082\n",
            "Epoch 21/50\n",
            "1563/1563 [==============================] - 11s 7ms/step - loss: 0.1002 - accuracy: 0.9668 - val_loss: 0.7709 - val_accuracy: 0.8243\n",
            "Epoch 22/50\n",
            "1563/1563 [==============================] - 11s 7ms/step - loss: 0.0863 - accuracy: 0.9715 - val_loss: 0.7009 - val_accuracy: 0.8317\n",
            "Epoch 23/50\n",
            "1563/1563 [==============================] - 11s 7ms/step - loss: 0.0779 - accuracy: 0.9743 - val_loss: 0.7647 - val_accuracy: 0.8359\n",
            "Epoch 24/50\n",
            "1563/1563 [==============================] - 12s 8ms/step - loss: 0.0769 - accuracy: 0.9745 - val_loss: 0.7361 - val_accuracy: 0.8409\n",
            "Epoch 25/50\n",
            "1563/1563 [==============================] - 11s 7ms/step - loss: 0.0757 - accuracy: 0.9754 - val_loss: 0.7961 - val_accuracy: 0.8335\n",
            "Epoch 26/50\n",
            "1563/1563 [==============================] - 11s 7ms/step - loss: 0.0755 - accuracy: 0.9751 - val_loss: 0.7594 - val_accuracy: 0.8392\n",
            "Epoch 27/50\n",
            "1563/1563 [==============================] - 11s 7ms/step - loss: 0.0712 - accuracy: 0.9771 - val_loss: 0.7996 - val_accuracy: 0.8304\n",
            "Epoch 28/50\n",
            "1563/1563 [==============================] - 11s 7ms/step - loss: 0.0637 - accuracy: 0.9793 - val_loss: 0.8588 - val_accuracy: 0.8325\n",
            "Epoch 29/50\n",
            "1563/1563 [==============================] - 11s 7ms/step - loss: 0.0689 - accuracy: 0.9773 - val_loss: 0.7625 - val_accuracy: 0.8420\n",
            "Epoch 30/50\n",
            "1563/1563 [==============================] - 11s 7ms/step - loss: 0.0597 - accuracy: 0.9813 - val_loss: 0.7995 - val_accuracy: 0.8357\n",
            "Epoch 31/50\n",
            "1563/1563 [==============================] - 11s 7ms/step - loss: 0.0606 - accuracy: 0.9804 - val_loss: 0.8589 - val_accuracy: 0.8343\n",
            "Epoch 32/50\n",
            "1563/1563 [==============================] - 11s 7ms/step - loss: 0.0619 - accuracy: 0.9801 - val_loss: 0.7543 - val_accuracy: 0.8386\n",
            "Epoch 33/50\n",
            "1563/1563 [==============================] - 11s 7ms/step - loss: 0.0564 - accuracy: 0.9824 - val_loss: 0.7527 - val_accuracy: 0.8413\n",
            "Epoch 34/50\n",
            "1563/1563 [==============================] - 11s 7ms/step - loss: 0.0551 - accuracy: 0.9818 - val_loss: 0.8958 - val_accuracy: 0.8292\n",
            "Epoch 35/50\n",
            "1563/1563 [==============================] - 11s 7ms/step - loss: 0.0538 - accuracy: 0.9821 - val_loss: 0.9022 - val_accuracy: 0.8384\n",
            "Epoch 36/50\n",
            "1563/1563 [==============================] - 11s 7ms/step - loss: 0.0566 - accuracy: 0.9816 - val_loss: 0.8122 - val_accuracy: 0.8382\n",
            "Epoch 37/50\n",
            "1563/1563 [==============================] - 11s 7ms/step - loss: 0.0467 - accuracy: 0.9840 - val_loss: 0.7611 - val_accuracy: 0.8380\n",
            "Epoch 38/50\n",
            "1563/1563 [==============================] - 11s 7ms/step - loss: 0.0515 - accuracy: 0.9834 - val_loss: 0.7839 - val_accuracy: 0.8381\n",
            "Epoch 39/50\n",
            "1563/1563 [==============================] - 11s 7ms/step - loss: 0.0525 - accuracy: 0.9832 - val_loss: 0.8031 - val_accuracy: 0.8451\n",
            "Epoch 40/50\n",
            "1563/1563 [==============================] - 13s 8ms/step - loss: 0.0439 - accuracy: 0.9860 - val_loss: 0.8529 - val_accuracy: 0.8346\n",
            "Epoch 41/50\n",
            "1563/1563 [==============================] - 11s 7ms/step - loss: 0.0510 - accuracy: 0.9837 - val_loss: 0.7369 - val_accuracy: 0.8434\n",
            "Epoch 42/50\n",
            "1563/1563 [==============================] - 11s 7ms/step - loss: 0.0435 - accuracy: 0.9859 - val_loss: 0.9003 - val_accuracy: 0.8397\n",
            "Epoch 43/50\n",
            "1563/1563 [==============================] - 11s 7ms/step - loss: 0.0470 - accuracy: 0.9846 - val_loss: 0.8773 - val_accuracy: 0.8427\n",
            "Epoch 44/50\n",
            "1563/1563 [==============================] - 11s 7ms/step - loss: 0.0428 - accuracy: 0.9862 - val_loss: 0.8657 - val_accuracy: 0.8371\n",
            "Epoch 45/50\n",
            "1563/1563 [==============================] - 11s 7ms/step - loss: 0.0464 - accuracy: 0.9853 - val_loss: 0.9046 - val_accuracy: 0.8384\n",
            "Epoch 46/50\n",
            "1563/1563 [==============================] - 11s 7ms/step - loss: 0.0429 - accuracy: 0.9863 - val_loss: 0.8796 - val_accuracy: 0.8387\n",
            "Epoch 47/50\n",
            "1563/1563 [==============================] - 11s 7ms/step - loss: 0.0419 - accuracy: 0.9868 - val_loss: 1.0396 - val_accuracy: 0.8338\n",
            "Epoch 48/50\n",
            "1563/1563 [==============================] - 11s 7ms/step - loss: 0.0417 - accuracy: 0.9867 - val_loss: 0.9251 - val_accuracy: 0.8404\n",
            "Epoch 49/50\n",
            "1563/1563 [==============================] - 11s 7ms/step - loss: 0.0415 - accuracy: 0.9867 - val_loss: 0.8899 - val_accuracy: 0.8426\n",
            "Epoch 50/50\n",
            "1563/1563 [==============================] - 11s 7ms/step - loss: 0.0424 - accuracy: 0.9867 - val_loss: 0.8938 - val_accuracy: 0.8429\n"
          ]
        }
      ],
      "source": [
        "r = model.fit(x_train, y_train, validation_data=(x_test, y_test), epochs=50)"
      ]
    },
    {
      "cell_type": "markdown",
      "metadata": {
        "id": "eXusjEE73_K0"
      },
      "source": [
        "# Retrain data with augmentation"
      ]
    },
    {
      "cell_type": "markdown",
      "metadata": {
        "id": "gg7ZXGE73_K1"
      },
      "source": [
        "## Note: if you run this AFTER calling the previous model.fit(), it will CONTINUE training where it left off.\n"
      ]
    },
    {
      "cell_type": "code",
      "execution_count": null,
      "metadata": {
        "colab": {
          "base_uri": "https://localhost:8080/"
        },
        "id": "oAyHPpaGD3aT",
        "outputId": "886f25de-936c-4071-f8f1-3dbb1a430baa"
      },
      "outputs": [
        {
          "name": "stdout",
          "output_type": "stream",
          "text": [
            "Epoch 1/50\n"
          ]
        },
        {
          "name": "stderr",
          "output_type": "stream",
          "text": [
            "/usr/local/lib/python3.7/dist-packages/ipykernel_launcher.py:5: UserWarning: `Model.fit_generator` is deprecated and will be removed in a future version. Please use `Model.fit`, which supports generators.\n",
            "  \"\"\"\n"
          ]
        },
        {
          "name": "stdout",
          "output_type": "stream",
          "text": [
            "1562/1562 [==============================] - 35s 22ms/step - loss: 0.5451 - accuracy: 0.8287 - val_loss: 0.5392 - val_accuracy: 0.8334\n",
            "Epoch 2/50\n",
            "1562/1562 [==============================] - 34s 22ms/step - loss: 0.4342 - accuracy: 0.8557 - val_loss: 0.4855 - val_accuracy: 0.8425\n",
            "Epoch 3/50\n",
            "1562/1562 [==============================] - 33s 21ms/step - loss: 0.4041 - accuracy: 0.8659 - val_loss: 0.4445 - val_accuracy: 0.8561\n",
            "Epoch 4/50\n",
            "1562/1562 [==============================] - 34s 22ms/step - loss: 0.3849 - accuracy: 0.8728 - val_loss: 0.4821 - val_accuracy: 0.8457\n",
            "Epoch 5/50\n",
            "1562/1562 [==============================] - 35s 22ms/step - loss: 0.3653 - accuracy: 0.8783 - val_loss: 0.4918 - val_accuracy: 0.8519\n",
            "Epoch 6/50\n",
            "1562/1562 [==============================] - 34s 21ms/step - loss: 0.3518 - accuracy: 0.8812 - val_loss: 0.4126 - val_accuracy: 0.8680\n",
            "Epoch 7/50\n",
            "1562/1562 [==============================] - 34s 22ms/step - loss: 0.3352 - accuracy: 0.8869 - val_loss: 0.4273 - val_accuracy: 0.8607\n",
            "Epoch 8/50\n",
            "1562/1562 [==============================] - 34s 22ms/step - loss: 0.3261 - accuracy: 0.8916 - val_loss: 0.4334 - val_accuracy: 0.8612\n",
            "Epoch 9/50\n",
            "1562/1562 [==============================] - 33s 21ms/step - loss: 0.3128 - accuracy: 0.8952 - val_loss: 0.4306 - val_accuracy: 0.8606\n",
            "Epoch 10/50\n",
            "1562/1562 [==============================] - 35s 22ms/step - loss: 0.3058 - accuracy: 0.8958 - val_loss: 0.4059 - val_accuracy: 0.8688\n",
            "Epoch 11/50\n",
            "1562/1562 [==============================] - 34s 22ms/step - loss: 0.3066 - accuracy: 0.8971 - val_loss: 0.4295 - val_accuracy: 0.8659\n",
            "Epoch 12/50\n",
            "1562/1562 [==============================] - 34s 21ms/step - loss: 0.2862 - accuracy: 0.9032 - val_loss: 0.4170 - val_accuracy: 0.8664\n",
            "Epoch 13/50\n",
            "1562/1562 [==============================] - 33s 21ms/step - loss: 0.2890 - accuracy: 0.9031 - val_loss: 0.4171 - val_accuracy: 0.8624\n",
            "Epoch 14/50\n",
            "1562/1562 [==============================] - 34s 22ms/step - loss: 0.2726 - accuracy: 0.9083 - val_loss: 0.3732 - val_accuracy: 0.8795\n",
            "Epoch 15/50\n",
            "1562/1562 [==============================] - 34s 22ms/step - loss: 0.2702 - accuracy: 0.9079 - val_loss: 0.3967 - val_accuracy: 0.8752\n",
            "Epoch 16/50\n",
            "1562/1562 [==============================] - 33s 21ms/step - loss: 0.2624 - accuracy: 0.9107 - val_loss: 0.3781 - val_accuracy: 0.8775\n",
            "Epoch 17/50\n",
            "1562/1562 [==============================] - 34s 22ms/step - loss: 0.2576 - accuracy: 0.9121 - val_loss: 0.4582 - val_accuracy: 0.8669\n",
            "Epoch 18/50\n",
            "1562/1562 [==============================] - 34s 22ms/step - loss: 0.2582 - accuracy: 0.9114 - val_loss: 0.4298 - val_accuracy: 0.8678\n",
            "Epoch 19/50\n",
            "1562/1562 [==============================] - 33s 21ms/step - loss: 0.2522 - accuracy: 0.9150 - val_loss: 0.4212 - val_accuracy: 0.8744\n",
            "Epoch 20/50\n",
            "1562/1562 [==============================] - 34s 22ms/step - loss: 0.2435 - accuracy: 0.9187 - val_loss: 0.4026 - val_accuracy: 0.8735\n",
            "Epoch 21/50\n",
            "1562/1562 [==============================] - 33s 21ms/step - loss: 0.2368 - accuracy: 0.9197 - val_loss: 0.4429 - val_accuracy: 0.8711\n",
            "Epoch 22/50\n",
            "1562/1562 [==============================] - 33s 21ms/step - loss: 0.2309 - accuracy: 0.9216 - val_loss: 0.3880 - val_accuracy: 0.8755\n",
            "Epoch 23/50\n",
            "1562/1562 [==============================] - 33s 21ms/step - loss: 0.2325 - accuracy: 0.9234 - val_loss: 0.3839 - val_accuracy: 0.8837\n",
            "Epoch 24/50\n",
            "1562/1562 [==============================] - 33s 21ms/step - loss: 0.2230 - accuracy: 0.9247 - val_loss: 0.4052 - val_accuracy: 0.8798\n",
            "Epoch 25/50\n",
            "1562/1562 [==============================] - 34s 22ms/step - loss: 0.2210 - accuracy: 0.9250 - val_loss: 0.4104 - val_accuracy: 0.8771\n",
            "Epoch 26/50\n",
            "1562/1562 [==============================] - 33s 21ms/step - loss: 0.2206 - accuracy: 0.9249 - val_loss: 0.4093 - val_accuracy: 0.8722\n",
            "Epoch 27/50\n",
            "1562/1562 [==============================] - 33s 21ms/step - loss: 0.2151 - accuracy: 0.9277 - val_loss: 0.4580 - val_accuracy: 0.8729\n",
            "Epoch 28/50\n",
            "1562/1562 [==============================] - 33s 21ms/step - loss: 0.2135 - accuracy: 0.9272 - val_loss: 0.4124 - val_accuracy: 0.8773\n",
            "Epoch 29/50\n",
            "1562/1562 [==============================] - 33s 21ms/step - loss: 0.2053 - accuracy: 0.9302 - val_loss: 0.4350 - val_accuracy: 0.8761\n",
            "Epoch 30/50\n",
            "1562/1562 [==============================] - 33s 21ms/step - loss: 0.2050 - accuracy: 0.9307 - val_loss: 0.4281 - val_accuracy: 0.8703\n",
            "Epoch 31/50\n",
            "1562/1562 [==============================] - 34s 22ms/step - loss: 0.2037 - accuracy: 0.9318 - val_loss: 0.4192 - val_accuracy: 0.8754\n",
            "Epoch 32/50\n",
            "1562/1562 [==============================] - 33s 21ms/step - loss: 0.2042 - accuracy: 0.9306 - val_loss: 0.4128 - val_accuracy: 0.8770\n",
            "Epoch 33/50\n",
            "1562/1562 [==============================] - 33s 21ms/step - loss: 0.1966 - accuracy: 0.9327 - val_loss: 0.4596 - val_accuracy: 0.8703\n",
            "Epoch 34/50\n",
            "1562/1562 [==============================] - 33s 21ms/step - loss: 0.1912 - accuracy: 0.9344 - val_loss: 0.4055 - val_accuracy: 0.8757\n",
            "Epoch 35/50\n",
            "1562/1562 [==============================] - 33s 21ms/step - loss: 0.1908 - accuracy: 0.9341 - val_loss: 0.4323 - val_accuracy: 0.8783\n",
            "Epoch 36/50\n",
            "1562/1562 [==============================] - 34s 21ms/step - loss: 0.1908 - accuracy: 0.9357 - val_loss: 0.4491 - val_accuracy: 0.8663\n",
            "Epoch 37/50\n",
            "1562/1562 [==============================] - 33s 21ms/step - loss: 0.1904 - accuracy: 0.9366 - val_loss: 0.4095 - val_accuracy: 0.8712\n",
            "Epoch 38/50\n",
            "1562/1562 [==============================] - 33s 21ms/step - loss: 0.1860 - accuracy: 0.9370 - val_loss: 0.4090 - val_accuracy: 0.8818\n",
            "Epoch 39/50\n",
            "1562/1562 [==============================] - 33s 21ms/step - loss: 0.1805 - accuracy: 0.9387 - val_loss: 0.4026 - val_accuracy: 0.8853\n",
            "Epoch 40/50\n",
            "1562/1562 [==============================] - 33s 21ms/step - loss: 0.1809 - accuracy: 0.9402 - val_loss: 0.4076 - val_accuracy: 0.8838\n",
            "Epoch 41/50\n",
            "1562/1562 [==============================] - 34s 22ms/step - loss: 0.1780 - accuracy: 0.9407 - val_loss: 0.4162 - val_accuracy: 0.8812\n",
            "Epoch 42/50\n",
            "1562/1562 [==============================] - 33s 21ms/step - loss: 0.1804 - accuracy: 0.9383 - val_loss: 0.4417 - val_accuracy: 0.8685\n",
            "Epoch 43/50\n",
            "1562/1562 [==============================] - 32s 21ms/step - loss: 0.1755 - accuracy: 0.9408 - val_loss: 0.4240 - val_accuracy: 0.8796\n",
            "Epoch 44/50\n",
            "1562/1562 [==============================] - 33s 21ms/step - loss: 0.1744 - accuracy: 0.9412 - val_loss: 0.4645 - val_accuracy: 0.8815\n",
            "Epoch 45/50\n",
            "1562/1562 [==============================] - 33s 21ms/step - loss: 0.1691 - accuracy: 0.9426 - val_loss: 0.4182 - val_accuracy: 0.8802\n",
            "Epoch 46/50\n",
            "1562/1562 [==============================] - 33s 21ms/step - loss: 0.1710 - accuracy: 0.9427 - val_loss: 0.4449 - val_accuracy: 0.8790\n",
            "Epoch 47/50\n",
            "1562/1562 [==============================] - 34s 22ms/step - loss: 0.1718 - accuracy: 0.9426 - val_loss: 0.4037 - val_accuracy: 0.8820\n",
            "Epoch 48/50\n",
            "1562/1562 [==============================] - 34s 21ms/step - loss: 0.1679 - accuracy: 0.9427 - val_loss: 0.4334 - val_accuracy: 0.8774\n",
            "Epoch 49/50\n",
            "1562/1562 [==============================] - 33s 21ms/step - loss: 0.1648 - accuracy: 0.9451 - val_loss: 0.3901 - val_accuracy: 0.8844\n",
            "Epoch 50/50\n",
            "1562/1562 [==============================] - 33s 21ms/step - loss: 0.1598 - accuracy: 0.9463 - val_loss: 0.4428 - val_accuracy: 0.8813\n"
          ]
        }
      ],
      "source": [
        "batch_size = 32\n",
        "data_generator = tf.keras.preprocessing.image.ImageDataGenerator(width_shift_range=0.1, height_shift_range=0.1, horizontal_flip=True)\n",
        "train_generator = data_generator.flow(x_train, y_train, batch_size)\n",
        "steps_per_epoch = x_train.shape[0] // batch_size\n",
        "r = model.fit_generator(train_generator, validation_data=(x_test, y_test), steps_per_epoch=steps_per_epoch, epochs=50)"
      ]
    },
    {
      "cell_type": "markdown",
      "metadata": {
        "id": "EnXWQ1cT3_K3"
      },
      "source": [
        "# Let's plot Loss"
      ]
    },
    {
      "cell_type": "code",
      "execution_count": null,
      "metadata": {
        "colab": {
          "base_uri": "https://localhost:8080/",
          "height": 337
        },
        "id": "yVn27-TDE4Bs",
        "outputId": "3f82b068-4d7d-467c-f839-4d4ec1d6ff54"
      },
      "outputs": [
        {
          "data": {
            "text/plain": [
              "<matplotlib.legend.Legend at 0x7f85966e3fd0>"
            ]
          },
          "execution_count": 10,
          "metadata": {},
          "output_type": "execute_result"
        },
        {
          "data": {
            "image/png": "[encoded data removed]",
            "text/plain": [
              "<Figure size 720x360 with 1 Axes>"
            ]
          },
          "metadata": {},
          "output_type": "display_data"
        }
      ],
      "source": [
        "# Plot loss per iteration\n",
        "import matplotlib.pyplot as plt\n",
        "plt.rcParams['figure.figsize'] = [10,5]\n",
        "plt.plot(r.history['loss'], label='loss')\n",
        "plt.plot(r.history['val_loss'], label='val_loss')\n",
        "plt.legend()"
      ]
    },
    {
      "cell_type": "markdown",
      "metadata": {
        "id": "CN0xCNiM3_K4"
      },
      "source": [
        "# Let's plot Accuracy"
      ]
    },
    {
      "cell_type": "code",
      "execution_count": null,
      "metadata": {
        "colab": {
          "base_uri": "https://localhost:8080/",
          "height": 337
        },
        "id": "j5VPisdiE7YR",
        "outputId": "aee9faf9-fd5b-4e43-eb88-66789a34cf06"
      },
      "outputs": [
        {
          "data": {
            "text/plain": [
              "<matplotlib.legend.Legend at 0x7f85967c89d0>"
            ]
          },
          "execution_count": 11,
          "metadata": {},
          "output_type": "execute_result"
        },
        {
          "data": {
            "image/png": "[encoded data removed]",
            "text/plain": [
              "<Figure size 720x360 with 1 Axes>"
            ]
          },
          "metadata": {},
          "output_type": "display_data"
        }
      ],
      "source": [
        "# Plot accuracy per iteration\n",
        "plt.plot(r.history['accuracy'], label='acc')\n",
        "plt.plot(r.history['val_accuracy'], label='val_acc')\n",
        "plt.legend()"
      ]
    },
    {
      "cell_type": "markdown",
      "metadata": {
        "id": "CaTS9yX_3_K6"
      },
      "source": [
        "# Now plot the confusion matrix"
      ]
    },
    {
      "cell_type": "code",
      "execution_count": null,
      "metadata": {
        "colab": {
          "base_uri": "https://localhost:8080/",
          "height": 718
        },
        "id": "Rmw515IYE7f6",
        "outputId": "4191483a-aea9-4e79-b414-d5ac4952dad9"
      },
      "outputs": [
        {
          "name": "stdout",
          "output_type": "stream",
          "text": [
            "Confusion matrix, without normalization\n",
            "[[930   9  12   7   2   3   3   3  11  20]\n",
            " [  3 970   1   2   1   0   0   0   3  20]\n",
            " [ 27   1 853  33  18  19  32  11   3   3]\n",
            " [ 12   5  42 829  14  53  24  10   5   6]\n",
            " [ 14   1  48  55 806  18  37  16   2   3]\n",
            " [  9   4  24 128  20 777  21  14   0   3]\n",
            " [  6   0  34  38   5   3 910   1   2   1]\n",
            " [  7   0  14  37  14  14   3 905   1   5]\n",
            " [ 35  16   3   3   2   3   1   1 919  17]\n",
            " [ 16  55   1   4   0   1   1   2   6 914]]\n"
          ]
        },
        {
          "data": {
            "image/png": "[encoded data removed]",
            "text/plain": [
              "<Figure size 720x504 with 2 Axes>"
            ]
          },
          "metadata": {},
          "output_type": "display_data"
        }
      ],
      "source": [
        "# Plot confusion matrix\n",
        "from sklearn.metrics import confusion_matrix\n",
        "import itertools\n",
        "plt.rcParams['figure.figsize'] = [10,7]\n",
        "\n",
        "def plot_confusion_matrix(cm, classes,\n",
        "                          normalize=False,\n",
        "                          title='Confusion matrix',\n",
        "                          cmap=plt.cm.Blues):\n",
        "\n",
        "  if normalize:\n",
        "      cm = cm.astype('float') / cm.sum(axis=1)[:, np.newaxis]\n",
        "      print(\"Normalized confusion matrix\")\n",
        "  else:\n",
        "      print('Confusion matrix, without normalization')\n",
        "\n",
        "  print(cm)\n",
        "\n",
        "  plt.imshow(cm, interpolation='nearest', cmap=cmap)\n",
        "  plt.title(title)\n",
        "  plt.colorbar()\n",
        "  tick_marks = np.arange(len(classes))\n",
        "  plt.xticks(tick_marks, classes, rotation=45)\n",
        "  plt.yticks(tick_marks, classes)\n",
        "\n",
        "  fmt = '.2f' if normalize else 'd'\n",
        "  thresh = cm.max() / 2.\n",
        "  for i, j in itertools.product(range(cm.shape[0]), range(cm.shape[1])):\n",
        "      plt.text(j, i, format(cm[i, j], fmt),\n",
        "               horizontalalignment=\"center\",\n",
        "               color=\"white\" if cm[i, j] > thresh else \"black\")\n",
        "\n",
        "  plt.tight_layout()\n",
        "  plt.ylabel('True label')\n",
        "  plt.xlabel('Predicted label')\n",
        "  plt.show()\n",
        "\n",
        "\n",
        "p_test = model.predict(x_test).argmax(axis=1)\n",
        "cm = confusion_matrix(y_test, p_test)\n",
        "plot_confusion_matrix(cm, list(range(10)))"
      ]
    },
    {
      "cell_type": "markdown",
      "metadata": {
        "id": "opKGc2qh3_K8"
      },
      "source": [
        "# Define the Labels"
      ]
    },
    {
      "cell_type": "code",
      "execution_count": null,
      "metadata": {
        "id": "RIAp0uPDE7p5"
      },
      "outputs": [],
      "source": [
        "labels = '''airplane\n",
        "automobile\n",
        "bird\n",
        "cat\n",
        "deer\n",
        "dog\n",
        "frog\n",
        "horse\n",
        "ship\n",
        "truck'''.split()"
      ]
    },
    {
      "cell_type": "markdown",
      "metadata": {
        "id": "8ZdTWZOI3_K-"
      },
      "source": [
        "# Check the Right predictions"
      ]
    },
    {
      "cell_type": "code",
      "execution_count": null,
      "metadata": {
        "colab": {
          "base_uri": "https://localhost:8080/",
          "height": 444
        },
        "id": "4Cu8Sh1tFD6u",
        "outputId": "9adec02a-72ef-4d28-b848-d41dff8f8538"
      },
      "outputs": [
        {
          "data": {
            "image/png": "[encoded data removed]",
            "text/plain": [
              "<Figure size 720x504 with 1 Axes>"
            ]
          },
          "metadata": {},
          "output_type": "display_data"
        }
      ],
      "source": [
        "misclassified_idx = np.where(p_test == y_test)[0]\n",
        "i = np.random.choice(misclassified_idx)\n",
        "plt.imshow(x_test[i], cmap='gray')\n",
        "plt.title(\"True label: %s Predicted: %s\" % (labels[y_test[i]], labels[p_test[i]]));"
      ]
    },
    {
      "cell_type": "markdown",
      "metadata": {
        "id": "YZxjOJ_C3_K_"
      },
      "source": [
        "# Check the wrong predictions"
      ]
    },
    {
      "cell_type": "code",
      "execution_count": null,
      "metadata": {
        "colab": {
          "base_uri": "https://localhost:8080/",
          "height": 444
        },
        "id": "XYC-cpl73_LA",
        "outputId": "0062d643-80bc-4963-dcf8-18142aa23a6c"
      },
      "outputs": [
        {
          "data": {
            "image/png": "[encoded data removed]",
            "text/plain": [
              "<Figure size 720x504 with 1 Axes>"
            ]
          },
          "metadata": {},
          "output_type": "display_data"
        }
      ],
      "source": [
        "misclassified_idx = np.where(p_test != y_test)[0]\n",
        "i = np.random.choice(misclassified_idx)\n",
        "plt.imshow(x_test[i], cmap='gray')\n",
        "plt.title(\"True label: %s Predicted: %s\" % (labels[y_test[i]], labels[p_test[i]]));"
      ]
    },
    {
      "cell_type": "markdown",
      "metadata": {
        "id": "gk_J5_iC3_LB"
      },
      "source": [
        "# Check the model summary"
      ]
    },
    {
      "cell_type": "code",
      "execution_count": null,
      "metadata": {
        "colab": {
          "base_uri": "https://localhost:8080/"
        },
        "id": "v0-YnS6jFECi",
        "outputId": "ef8c804a-d411-4bd8-b109-9e526008fa15"
      },
      "outputs": [
        {
          "name": "stdout",
          "output_type": "stream",
          "text": [
            "Model: \"model\"\n",
            "_________________________________________________________________\n",
            " Layer (type)                Output Shape              Param #   \n",
            "=================================================================\n",
            " input_1 (InputLayer)        [(None, 32, 32, 3)]       0         \n",
            "                                                                 \n",
            " conv2d (Conv2D)             (None, 32, 32, 32)        896       \n",
            "                                                                 \n",
            " batch_normalization (BatchN  (None, 32, 32, 32)       128       \n",
            " ormalization)                                                   \n",
            "                                                                 \n",
            " conv2d_1 (Conv2D)           (None, 32, 32, 32)        9248      \n",
            "                                                                 \n",
            " batch_normalization_1 (Batc  (None, 32, 32, 32)       128       \n",
            " hNormalization)                                                 \n",
            "                                                                 \n",
            " max_pooling2d (MaxPooling2D  (None, 16, 16, 32)       0         \n",
            " )                                                               \n",
            "                                                                 \n",
            " conv2d_2 (Conv2D)           (None, 16, 16, 64)        18496     \n",
            "                                                                 \n",
            " batch_normalization_2 (Batc  (None, 16, 16, 64)       256       \n",
            " hNormalization)                                                 \n",
            "                                                                 \n",
            " conv2d_3 (Conv2D)           (None, 16, 16, 64)        36928     \n",
            "                                                                 \n",
            " batch_normalization_3 (Batc  (None, 16, 16, 64)       256       \n",
            " hNormalization)                                                 \n",
            "                                                                 \n",
            " max_pooling2d_1 (MaxPooling  (None, 8, 8, 64)         0         \n",
            " 2D)                                                             \n",
            "                                                                 \n",
            " conv2d_4 (Conv2D)           (None, 8, 8, 128)         73856     \n",
            "                                                                 \n",
            " batch_normalization_4 (Batc  (None, 8, 8, 128)        512       \n",
            " hNormalization)                                                 \n",
            "                                                                 \n",
            " conv2d_5 (Conv2D)           (None, 8, 8, 128)         147584    \n",
            "                                                                 \n",
            " batch_normalization_5 (Batc  (None, 8, 8, 128)        512       \n",
            " hNormalization)                                                 \n",
            "                                                                 \n",
            " max_pooling2d_2 (MaxPooling  (None, 4, 4, 128)        0         \n",
            " 2D)                                                             \n",
            "                                                                 \n",
            " flatten (Flatten)           (None, 2048)              0         \n",
            "                                                                 \n",
            " dropout (Dropout)           (None, 2048)              0         \n",
            "                                                                 \n",
            " dense (Dense)               (None, 1024)              2098176   \n",
            "                                                                 \n",
            " dropout_1 (Dropout)         (None, 1024)              0         \n",
            "                                                                 \n",
            " dense_1 (Dense)             (None, 10)                10250     \n",
            "                                                                 \n",
            "=================================================================\n",
            "Total params: 2,397,226\n",
            "Trainable params: 2,396,330\n",
            "Non-trainable params: 896\n",
            "_________________________________________________________________\n"
          ]
        }
      ],
      "source": [
        "# Now that the model is so large, it's useful to summarize it\n",
        "model.summary()"
      ]
    },
    {
      "cell_type": "code",
      "execution_count": null,
      "metadata": {
        "id": "3dI_epjqcbIB"
      },
      "outputs": [],
      "source": [
        "!pip install gradio"
      ]
    },
    {
      "cell_type": "code",
      "execution_count": null,
      "metadata": {
        "id": "8AnbAthYcbVV"
      },
      "outputs": [],
      "source": [
        "import gradio as gr"
      ]
    },
    {
      "cell_type": "code",
      "execution_count": null,
      "metadata": {
        "id": "CuSIb7SldRly"
      },
      "outputs": [],
      "source": [
        "class_names = ['airplane','automobile','bird','cat','deer','dog','frog','horse','ship','truck']"
      ]
    },
    {
      "cell_type": "code",
      "execution_count": null,
      "metadata": {
        "id": "ZPEhqSOxdqgb"
      },
      "outputs": [],
      "source": [
        "def predict_image(img):\n",
        "  img_4d=img.reshape(-1,32,32,3)\n",
        "  prediction=model.predict(img_4d)[0]\n",
        "  return {class_names[i]: float(prediction[i]) for i in range(10)}"
      ]
    },
    {
      "cell_type": "code",
      "execution_count": null,
      "metadata": {
        "colab": {
          "background_save": true,
          "base_uri": "https://localhost:8080/",
          "height": 660
        },
        "id": "_cGSEAs9dy-5",
        "outputId": "498b8af1-7727-49c4-968d-b4670bd46064"
      },
      "outputs": [
        {
          "name": "stderr",
          "output_type": "stream",
          "text": [
            "/usr/local/lib/python3.7/dist-packages/gradio/deprecation.py:40: UserWarning: `optional` parameter is deprecated, and it has no effect\n",
            "  warnings.warn(value)\n",
            "/usr/local/lib/python3.7/dist-packages/gradio/deprecation.py:40: UserWarning: The 'type' parameter has been deprecated. Use the Number component instead.\n",
            "  warnings.warn(value)\n"
          ]
        },
        {
          "name": "stdout",
          "output_type": "stream",
          "text": [
            "Colab notebook detected. This cell will run indefinitely so that you can see errors and logs. To turn off, set debug=False in launch().\n",
            "Running on public URL: https://43938.gradio.app\n",
            "\n",
            "This share link expires in 72 hours. For free permanent hosting, check out Spaces (https://huggingface.co/spaces)\n"
          ]
        },
        {
          "data": {
            "text/html": [
              "<div><iframe src=\"https://43938.gradio.app\" width=\"900\" height=\"500\" allow=\"autoplay; camera; microphone;\" frameborder=\"0\" allowfullscreen></iframe></div>"
            ],
            "text/plain": [
              "<IPython.core.display.HTML object>"
            ]
          },
          "metadata": {},
          "output_type": "display_data"
        },
        {
          "name": "stdout",
          "output_type": "stream",
          "text": [
            "Keyboard interruption in main thread... closing server.\n"
          ]
        },
        {
          "data": {
            "text/plain": [
              "(<gradio.routes.App at 0x7f849f97d610>,\n",
              " 'http://127.0.0.1:7861/',\n",
              " 'https://43938.gradio.app')"
            ]
          },
          "execution_count": null,
          "metadata": {},
          "output_type": "execute_result"
        }
      ],
      "source": [
        "image = gr.inputs.Image(shape=(32,32))\n",
        "label = gr.outputs.Label(num_top_classes=10)\n",
        "\n",
        "gr.Interface(fn=predict_image, inputs=image, outputs=label,interpretation='default').launch(debug='True')"
      ]
    },
    {
      "cell_type": "code",
      "execution_count": null,
      "metadata": {
        "id": "V3cqk7R7d36R"
      },
      "outputs": [],
      "source": [
        ""
      ]
    }
  ],
  "metadata": {
    "accelerator": "GPU",
    "colab": {
      "collapsed_sections": [],
      "name": "Final_PS1_project.ipynb",
      "provenance": []
    },
    "gpuClass": "standard",
    "kernelspec": {
      "display_name": "Python 3",
      "name": "python3"
    },
    "language_info": {
      "codemirror_mode": {
        "name": "ipython",
        "version": 3
      },
      "file_extension": ".py",
      "mimetype": "text/x-python",
      "name": "python",
      "nbconvert_exporter": "python",
      "pygments_lexer": "ipython3",
      "version": "3.6.6"
    }
  },
  "nbformat": 4,
  "nbformat_minor": 0
}